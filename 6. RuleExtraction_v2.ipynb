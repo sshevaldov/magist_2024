{
  "nbformat": 4,
  "nbformat_minor": 0,
  "metadata": {
    "colab": {
      "provenance": []
    },
    "kernelspec": {
      "name": "python3",
      "display_name": "Python 3"
    },
    "language_info": {
      "name": "python"
    }
  },
  "cells": [
    {
      "cell_type": "code",
      "execution_count": 2,
      "metadata": {
        "colab": {
          "base_uri": "https://localhost:8080/"
        },
        "id": "JouHD-LUhHIy",
        "outputId": "11dd8ed8-a81f-456c-c0a4-3cc9fce7d316"
      },
      "outputs": [
        {
          "output_type": "stream",
          "name": "stdout",
          "text": [
            "|--- attr2 <= 1.50\n",
            "|   |--- class: 1\n",
            "|--- attr2 >  1.50\n",
            "|   |--- attr4 <= 2.50\n",
            "|   |   |--- class: 2\n",
            "|   |--- attr4 >  2.50\n",
            "|   |   |--- class: 3\n",
            "\n"
          ]
        }
      ],
      "source": [
        "from sklearn.tree import DecisionTreeClassifier\n",
        "from sklearn.tree import export_text\n",
        "import pandas as pd\n",
        "\n",
        "keys = ['attr1', 'attr2', 'attr3', 'attr4']\n",
        "\n",
        "df = pd.read_csv(\"6. inputs.csv\")\n",
        "X = df.drop(columns=['class']).values\n",
        "Y = df.drop(columns=keys).values\n",
        "decision_tree = DecisionTreeClassifier(random_state=0, max_depth=3)\n",
        "decision_tree = decision_tree.fit(X, Y)\n",
        "r = export_text(decision_tree, feature_names=keys)\n",
        "print(r)\n"
      ]
    }
  ]
}